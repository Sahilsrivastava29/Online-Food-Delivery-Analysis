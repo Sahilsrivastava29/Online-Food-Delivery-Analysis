{
 "cells": [
  {
   "cell_type": "markdown",
   "id": "53466e27-259f-4d57-93e0-c759e2f75820",
   "metadata": {},
   "source": [
    "# Step 1️⃣ : Import Libraries"
   ]
  },
  {
   "cell_type": "code",
   "execution_count": 1,
   "id": "416f471d-e0a1-4d80-83ef-0c72e2466627",
   "metadata": {},
   "outputs": [],
   "source": [
    "import numpy as np\n",
    "import pandas as pd\n",
    "import matplotlib.pyplot as plt\n",
    "import seaborn as sns"
   ]
  },
  {
   "cell_type": "markdown",
   "id": "72e86d80-62eb-4bc6-8000-9e566da5c7be",
   "metadata": {},
   "source": [
    "#  Step 2️⃣ : Load Dataset"
   ]
  },
  {
   "cell_type": "code",
   "execution_count": 9,
   "id": "7a9daaec-5a2f-4c8b-a787-90a59466f380",
   "metadata": {},
   "outputs": [],
   "source": [
    "df = pd.read_csv(\"zomato.csv\")"
   ]
  },
  {
   "cell_type": "code",
   "execution_count": 10,
   "id": "c6eaa13d-5bbf-40fb-a1af-708ba93ef3b9",
   "metadata": {},
   "outputs": [
    {
     "data": {
      "text/html": [
       "<div>\n",
       "<style scoped>\n",
       "    .dataframe tbody tr th:only-of-type {\n",
       "        vertical-align: middle;\n",
       "    }\n",
       "\n",
       "    .dataframe tbody tr th {\n",
       "        vertical-align: top;\n",
       "    }\n",
       "\n",
       "    .dataframe thead th {\n",
       "        text-align: right;\n",
       "    }\n",
       "</style>\n",
       "<table border=\"1\" class=\"dataframe\">\n",
       "  <thead>\n",
       "    <tr style=\"text-align: right;\">\n",
       "      <th></th>\n",
       "      <th>url</th>\n",
       "      <th>address</th>\n",
       "      <th>name</th>\n",
       "      <th>online_order</th>\n",
       "      <th>book_table</th>\n",
       "      <th>rate</th>\n",
       "      <th>votes</th>\n",
       "      <th>phone</th>\n",
       "      <th>location</th>\n",
       "      <th>rest_type</th>\n",
       "      <th>dish_liked</th>\n",
       "      <th>cuisines</th>\n",
       "      <th>approx_cost(for two people)</th>\n",
       "      <th>reviews_list</th>\n",
       "      <th>menu_item</th>\n",
       "      <th>listed_in(type)</th>\n",
       "      <th>listed_in(city)</th>\n",
       "    </tr>\n",
       "  </thead>\n",
       "  <tbody>\n",
       "    <tr>\n",
       "      <th>0</th>\n",
       "      <td>https://www.zomato.com/bangalore/jalsa-banasha...</td>\n",
       "      <td>942, 21st Main Road, 2nd Stage, Banashankari, ...</td>\n",
       "      <td>Jalsa</td>\n",
       "      <td>Yes</td>\n",
       "      <td>Yes</td>\n",
       "      <td>4.1/5</td>\n",
       "      <td>775</td>\n",
       "      <td>080 42297555\\r\\n+91 9743772233</td>\n",
       "      <td>Banashankari</td>\n",
       "      <td>Casual Dining</td>\n",
       "      <td>Pasta, Lunch Buffet, Masala Papad, Paneer Laja...</td>\n",
       "      <td>North Indian, Mughlai, Chinese</td>\n",
       "      <td>800</td>\n",
       "      <td>[('Rated 4.0', 'RATED\\n  A beautiful place to ...</td>\n",
       "      <td>[]</td>\n",
       "      <td>Buffet</td>\n",
       "      <td>Banashankari</td>\n",
       "    </tr>\n",
       "    <tr>\n",
       "      <th>1</th>\n",
       "      <td>https://www.zomato.com/bangalore/spice-elephan...</td>\n",
       "      <td>2nd Floor, 80 Feet Road, Near Big Bazaar, 6th ...</td>\n",
       "      <td>Spice Elephant</td>\n",
       "      <td>Yes</td>\n",
       "      <td>No</td>\n",
       "      <td>4.1/5</td>\n",
       "      <td>787</td>\n",
       "      <td>080 41714161</td>\n",
       "      <td>Banashankari</td>\n",
       "      <td>Casual Dining</td>\n",
       "      <td>Momos, Lunch Buffet, Chocolate Nirvana, Thai G...</td>\n",
       "      <td>Chinese, North Indian, Thai</td>\n",
       "      <td>800</td>\n",
       "      <td>[('Rated 4.0', 'RATED\\n  Had been here for din...</td>\n",
       "      <td>[]</td>\n",
       "      <td>Buffet</td>\n",
       "      <td>Banashankari</td>\n",
       "    </tr>\n",
       "    <tr>\n",
       "      <th>2</th>\n",
       "      <td>https://www.zomato.com/SanchurroBangalore?cont...</td>\n",
       "      <td>1112, Next to KIMS Medical College, 17th Cross...</td>\n",
       "      <td>San Churro Cafe</td>\n",
       "      <td>Yes</td>\n",
       "      <td>No</td>\n",
       "      <td>3.8/5</td>\n",
       "      <td>918</td>\n",
       "      <td>+91 9663487993</td>\n",
       "      <td>Banashankari</td>\n",
       "      <td>Cafe, Casual Dining</td>\n",
       "      <td>Churros, Cannelloni, Minestrone Soup, Hot Choc...</td>\n",
       "      <td>Cafe, Mexican, Italian</td>\n",
       "      <td>800</td>\n",
       "      <td>[('Rated 3.0', \"RATED\\n  Ambience is not that ...</td>\n",
       "      <td>[]</td>\n",
       "      <td>Buffet</td>\n",
       "      <td>Banashankari</td>\n",
       "    </tr>\n",
       "    <tr>\n",
       "      <th>3</th>\n",
       "      <td>https://www.zomato.com/bangalore/addhuri-udupi...</td>\n",
       "      <td>1st Floor, Annakuteera, 3rd Stage, Banashankar...</td>\n",
       "      <td>Addhuri Udupi Bhojana</td>\n",
       "      <td>No</td>\n",
       "      <td>No</td>\n",
       "      <td>3.7/5</td>\n",
       "      <td>88</td>\n",
       "      <td>+91 9620009302</td>\n",
       "      <td>Banashankari</td>\n",
       "      <td>Quick Bites</td>\n",
       "      <td>Masala Dosa</td>\n",
       "      <td>South Indian, North Indian</td>\n",
       "      <td>300</td>\n",
       "      <td>[('Rated 4.0', \"RATED\\n  Great food and proper...</td>\n",
       "      <td>[]</td>\n",
       "      <td>Buffet</td>\n",
       "      <td>Banashankari</td>\n",
       "    </tr>\n",
       "    <tr>\n",
       "      <th>4</th>\n",
       "      <td>https://www.zomato.com/bangalore/grand-village...</td>\n",
       "      <td>10, 3rd Floor, Lakshmi Associates, Gandhi Baza...</td>\n",
       "      <td>Grand Village</td>\n",
       "      <td>No</td>\n",
       "      <td>No</td>\n",
       "      <td>3.8/5</td>\n",
       "      <td>166</td>\n",
       "      <td>+91 8026612447\\r\\n+91 9901210005</td>\n",
       "      <td>Basavanagudi</td>\n",
       "      <td>Casual Dining</td>\n",
       "      <td>Panipuri, Gol Gappe</td>\n",
       "      <td>North Indian, Rajasthani</td>\n",
       "      <td>600</td>\n",
       "      <td>[('Rated 4.0', 'RATED\\n  Very good restaurant ...</td>\n",
       "      <td>[]</td>\n",
       "      <td>Buffet</td>\n",
       "      <td>Banashankari</td>\n",
       "    </tr>\n",
       "    <tr>\n",
       "      <th>...</th>\n",
       "      <td>...</td>\n",
       "      <td>...</td>\n",
       "      <td>...</td>\n",
       "      <td>...</td>\n",
       "      <td>...</td>\n",
       "      <td>...</td>\n",
       "      <td>...</td>\n",
       "      <td>...</td>\n",
       "      <td>...</td>\n",
       "      <td>...</td>\n",
       "      <td>...</td>\n",
       "      <td>...</td>\n",
       "      <td>...</td>\n",
       "      <td>...</td>\n",
       "      <td>...</td>\n",
       "      <td>...</td>\n",
       "      <td>...</td>\n",
       "    </tr>\n",
       "    <tr>\n",
       "      <th>51712</th>\n",
       "      <td>https://www.zomato.com/bangalore/best-brews-fo...</td>\n",
       "      <td>Four Points by Sheraton Bengaluru, 43/3, White...</td>\n",
       "      <td>Best Brews - Four Points by Sheraton Bengaluru...</td>\n",
       "      <td>No</td>\n",
       "      <td>No</td>\n",
       "      <td>3.6 /5</td>\n",
       "      <td>27</td>\n",
       "      <td>080 40301477</td>\n",
       "      <td>Whitefield</td>\n",
       "      <td>Bar</td>\n",
       "      <td>NaN</td>\n",
       "      <td>Continental</td>\n",
       "      <td>1,500</td>\n",
       "      <td>[('Rated 5.0', \"RATED\\n  Food and service are ...</td>\n",
       "      <td>[]</td>\n",
       "      <td>Pubs and bars</td>\n",
       "      <td>Whitefield</td>\n",
       "    </tr>\n",
       "    <tr>\n",
       "      <th>51713</th>\n",
       "      <td>https://www.zomato.com/bangalore/vinod-bar-and...</td>\n",
       "      <td>Number 10, Garudachar Palya, Mahadevapura, Whi...</td>\n",
       "      <td>Vinod Bar And Restaurant</td>\n",
       "      <td>No</td>\n",
       "      <td>No</td>\n",
       "      <td>NaN</td>\n",
       "      <td>0</td>\n",
       "      <td>+91 8197675843</td>\n",
       "      <td>Whitefield</td>\n",
       "      <td>Bar</td>\n",
       "      <td>NaN</td>\n",
       "      <td>Finger Food</td>\n",
       "      <td>600</td>\n",
       "      <td>[]</td>\n",
       "      <td>[]</td>\n",
       "      <td>Pubs and bars</td>\n",
       "      <td>Whitefield</td>\n",
       "    </tr>\n",
       "    <tr>\n",
       "      <th>51714</th>\n",
       "      <td>https://www.zomato.com/bangalore/plunge-sherat...</td>\n",
       "      <td>Sheraton Grand Bengaluru Whitefield Hotel &amp; Co...</td>\n",
       "      <td>Plunge - Sheraton Grand Bengaluru Whitefield H...</td>\n",
       "      <td>No</td>\n",
       "      <td>No</td>\n",
       "      <td>NaN</td>\n",
       "      <td>0</td>\n",
       "      <td>NaN</td>\n",
       "      <td>Whitefield</td>\n",
       "      <td>Bar</td>\n",
       "      <td>NaN</td>\n",
       "      <td>Finger Food</td>\n",
       "      <td>2,000</td>\n",
       "      <td>[]</td>\n",
       "      <td>[]</td>\n",
       "      <td>Pubs and bars</td>\n",
       "      <td>Whitefield</td>\n",
       "    </tr>\n",
       "    <tr>\n",
       "      <th>51715</th>\n",
       "      <td>https://www.zomato.com/bangalore/chime-sherato...</td>\n",
       "      <td>Sheraton Grand Bengaluru Whitefield Hotel &amp; Co...</td>\n",
       "      <td>Chime - Sheraton Grand Bengaluru Whitefield Ho...</td>\n",
       "      <td>No</td>\n",
       "      <td>Yes</td>\n",
       "      <td>4.3 /5</td>\n",
       "      <td>236</td>\n",
       "      <td>080 49652769</td>\n",
       "      <td>ITPL Main Road, Whitefield</td>\n",
       "      <td>Bar</td>\n",
       "      <td>Cocktails, Pizza, Buttermilk</td>\n",
       "      <td>Finger Food</td>\n",
       "      <td>2,500</td>\n",
       "      <td>[('Rated 4.0', 'RATED\\n  Nice and friendly pla...</td>\n",
       "      <td>[]</td>\n",
       "      <td>Pubs and bars</td>\n",
       "      <td>Whitefield</td>\n",
       "    </tr>\n",
       "    <tr>\n",
       "      <th>51716</th>\n",
       "      <td>https://www.zomato.com/bangalore/the-nest-the-...</td>\n",
       "      <td>ITPL Main Road, KIADB Export Promotion Industr...</td>\n",
       "      <td>The Nest - The Den Bengaluru</td>\n",
       "      <td>No</td>\n",
       "      <td>No</td>\n",
       "      <td>3.4 /5</td>\n",
       "      <td>13</td>\n",
       "      <td>+91 8071117272</td>\n",
       "      <td>ITPL Main Road, Whitefield</td>\n",
       "      <td>Bar, Casual Dining</td>\n",
       "      <td>NaN</td>\n",
       "      <td>Finger Food, North Indian, Continental</td>\n",
       "      <td>1,500</td>\n",
       "      <td>[('Rated 5.0', 'RATED\\n  Great ambience , look...</td>\n",
       "      <td>[]</td>\n",
       "      <td>Pubs and bars</td>\n",
       "      <td>Whitefield</td>\n",
       "    </tr>\n",
       "  </tbody>\n",
       "</table>\n",
       "<p>51717 rows × 17 columns</p>\n",
       "</div>"
      ],
      "text/plain": [
       "                                                     url  \\\n",
       "0      https://www.zomato.com/bangalore/jalsa-banasha...   \n",
       "1      https://www.zomato.com/bangalore/spice-elephan...   \n",
       "2      https://www.zomato.com/SanchurroBangalore?cont...   \n",
       "3      https://www.zomato.com/bangalore/addhuri-udupi...   \n",
       "4      https://www.zomato.com/bangalore/grand-village...   \n",
       "...                                                  ...   \n",
       "51712  https://www.zomato.com/bangalore/best-brews-fo...   \n",
       "51713  https://www.zomato.com/bangalore/vinod-bar-and...   \n",
       "51714  https://www.zomato.com/bangalore/plunge-sherat...   \n",
       "51715  https://www.zomato.com/bangalore/chime-sherato...   \n",
       "51716  https://www.zomato.com/bangalore/the-nest-the-...   \n",
       "\n",
       "                                                 address  \\\n",
       "0      942, 21st Main Road, 2nd Stage, Banashankari, ...   \n",
       "1      2nd Floor, 80 Feet Road, Near Big Bazaar, 6th ...   \n",
       "2      1112, Next to KIMS Medical College, 17th Cross...   \n",
       "3      1st Floor, Annakuteera, 3rd Stage, Banashankar...   \n",
       "4      10, 3rd Floor, Lakshmi Associates, Gandhi Baza...   \n",
       "...                                                  ...   \n",
       "51712  Four Points by Sheraton Bengaluru, 43/3, White...   \n",
       "51713  Number 10, Garudachar Palya, Mahadevapura, Whi...   \n",
       "51714  Sheraton Grand Bengaluru Whitefield Hotel & Co...   \n",
       "51715  Sheraton Grand Bengaluru Whitefield Hotel & Co...   \n",
       "51716  ITPL Main Road, KIADB Export Promotion Industr...   \n",
       "\n",
       "                                                    name online_order  \\\n",
       "0                                                  Jalsa          Yes   \n",
       "1                                         Spice Elephant          Yes   \n",
       "2                                        San Churro Cafe          Yes   \n",
       "3                                  Addhuri Udupi Bhojana           No   \n",
       "4                                          Grand Village           No   \n",
       "...                                                  ...          ...   \n",
       "51712  Best Brews - Four Points by Sheraton Bengaluru...           No   \n",
       "51713                           Vinod Bar And Restaurant           No   \n",
       "51714  Plunge - Sheraton Grand Bengaluru Whitefield H...           No   \n",
       "51715  Chime - Sheraton Grand Bengaluru Whitefield Ho...           No   \n",
       "51716                       The Nest - The Den Bengaluru           No   \n",
       "\n",
       "      book_table    rate  votes                             phone  \\\n",
       "0            Yes   4.1/5    775    080 42297555\\r\\n+91 9743772233   \n",
       "1             No   4.1/5    787                      080 41714161   \n",
       "2             No   3.8/5    918                    +91 9663487993   \n",
       "3             No   3.7/5     88                    +91 9620009302   \n",
       "4             No   3.8/5    166  +91 8026612447\\r\\n+91 9901210005   \n",
       "...          ...     ...    ...                               ...   \n",
       "51712         No  3.6 /5     27                      080 40301477   \n",
       "51713         No     NaN      0                    +91 8197675843   \n",
       "51714         No     NaN      0                               NaN   \n",
       "51715        Yes  4.3 /5    236                      080 49652769   \n",
       "51716         No  3.4 /5     13                    +91 8071117272   \n",
       "\n",
       "                         location            rest_type  \\\n",
       "0                    Banashankari        Casual Dining   \n",
       "1                    Banashankari        Casual Dining   \n",
       "2                    Banashankari  Cafe, Casual Dining   \n",
       "3                    Banashankari          Quick Bites   \n",
       "4                    Basavanagudi        Casual Dining   \n",
       "...                           ...                  ...   \n",
       "51712                  Whitefield                  Bar   \n",
       "51713                  Whitefield                  Bar   \n",
       "51714                  Whitefield                  Bar   \n",
       "51715  ITPL Main Road, Whitefield                  Bar   \n",
       "51716  ITPL Main Road, Whitefield   Bar, Casual Dining   \n",
       "\n",
       "                                              dish_liked  \\\n",
       "0      Pasta, Lunch Buffet, Masala Papad, Paneer Laja...   \n",
       "1      Momos, Lunch Buffet, Chocolate Nirvana, Thai G...   \n",
       "2      Churros, Cannelloni, Minestrone Soup, Hot Choc...   \n",
       "3                                            Masala Dosa   \n",
       "4                                    Panipuri, Gol Gappe   \n",
       "...                                                  ...   \n",
       "51712                                                NaN   \n",
       "51713                                                NaN   \n",
       "51714                                                NaN   \n",
       "51715                       Cocktails, Pizza, Buttermilk   \n",
       "51716                                                NaN   \n",
       "\n",
       "                                     cuisines approx_cost(for two people)  \\\n",
       "0              North Indian, Mughlai, Chinese                         800   \n",
       "1                 Chinese, North Indian, Thai                         800   \n",
       "2                      Cafe, Mexican, Italian                         800   \n",
       "3                  South Indian, North Indian                         300   \n",
       "4                    North Indian, Rajasthani                         600   \n",
       "...                                       ...                         ...   \n",
       "51712                             Continental                       1,500   \n",
       "51713                             Finger Food                         600   \n",
       "51714                             Finger Food                       2,000   \n",
       "51715                             Finger Food                       2,500   \n",
       "51716  Finger Food, North Indian, Continental                       1,500   \n",
       "\n",
       "                                            reviews_list menu_item  \\\n",
       "0      [('Rated 4.0', 'RATED\\n  A beautiful place to ...        []   \n",
       "1      [('Rated 4.0', 'RATED\\n  Had been here for din...        []   \n",
       "2      [('Rated 3.0', \"RATED\\n  Ambience is not that ...        []   \n",
       "3      [('Rated 4.0', \"RATED\\n  Great food and proper...        []   \n",
       "4      [('Rated 4.0', 'RATED\\n  Very good restaurant ...        []   \n",
       "...                                                  ...       ...   \n",
       "51712  [('Rated 5.0', \"RATED\\n  Food and service are ...        []   \n",
       "51713                                                 []        []   \n",
       "51714                                                 []        []   \n",
       "51715  [('Rated 4.0', 'RATED\\n  Nice and friendly pla...        []   \n",
       "51716  [('Rated 5.0', 'RATED\\n  Great ambience , look...        []   \n",
       "\n",
       "      listed_in(type) listed_in(city)  \n",
       "0              Buffet    Banashankari  \n",
       "1              Buffet    Banashankari  \n",
       "2              Buffet    Banashankari  \n",
       "3              Buffet    Banashankari  \n",
       "4              Buffet    Banashankari  \n",
       "...               ...             ...  \n",
       "51712   Pubs and bars      Whitefield  \n",
       "51713   Pubs and bars      Whitefield  \n",
       "51714   Pubs and bars      Whitefield  \n",
       "51715   Pubs and bars      Whitefield  \n",
       "51716   Pubs and bars      Whitefield  \n",
       "\n",
       "[51717 rows x 17 columns]"
      ]
     },
     "execution_count": 10,
     "metadata": {},
     "output_type": "execute_result"
    }
   ],
   "source": [
    "df"
   ]
  },
  {
   "cell_type": "code",
   "execution_count": 15,
   "id": "11ad493f-aa07-41d0-bc23-113dd7d058da",
   "metadata": {},
   "outputs": [
    {
     "data": {
      "text/html": [
       "<div>\n",
       "<style scoped>\n",
       "    .dataframe tbody tr th:only-of-type {\n",
       "        vertical-align: middle;\n",
       "    }\n",
       "\n",
       "    .dataframe tbody tr th {\n",
       "        vertical-align: top;\n",
       "    }\n",
       "\n",
       "    .dataframe thead th {\n",
       "        text-align: right;\n",
       "    }\n",
       "</style>\n",
       "<table border=\"1\" class=\"dataframe\">\n",
       "  <thead>\n",
       "    <tr style=\"text-align: right;\">\n",
       "      <th></th>\n",
       "      <th>url</th>\n",
       "      <th>address</th>\n",
       "      <th>name</th>\n",
       "      <th>online_order</th>\n",
       "      <th>book_table</th>\n",
       "      <th>rate</th>\n",
       "      <th>votes</th>\n",
       "      <th>phone</th>\n",
       "      <th>location</th>\n",
       "      <th>rest_type</th>\n",
       "      <th>dish_liked</th>\n",
       "      <th>cuisines</th>\n",
       "      <th>approx_cost(for two people)</th>\n",
       "      <th>reviews_list</th>\n",
       "      <th>menu_item</th>\n",
       "      <th>listed_in(type)</th>\n",
       "      <th>listed_in(city)</th>\n",
       "    </tr>\n",
       "  </thead>\n",
       "  <tbody>\n",
       "    <tr>\n",
       "      <th>0</th>\n",
       "      <td>https://www.zomato.com/bangalore/jalsa-banasha...</td>\n",
       "      <td>942, 21st Main Road, 2nd Stage, Banashankari, ...</td>\n",
       "      <td>Jalsa</td>\n",
       "      <td>Yes</td>\n",
       "      <td>Yes</td>\n",
       "      <td>4.1/5</td>\n",
       "      <td>775</td>\n",
       "      <td>080 42297555\\r\\n+91 9743772233</td>\n",
       "      <td>Banashankari</td>\n",
       "      <td>Casual Dining</td>\n",
       "      <td>Pasta, Lunch Buffet, Masala Papad, Paneer Laja...</td>\n",
       "      <td>North Indian, Mughlai, Chinese</td>\n",
       "      <td>800</td>\n",
       "      <td>[('Rated 4.0', 'RATED\\n  A beautiful place to ...</td>\n",
       "      <td>[]</td>\n",
       "      <td>Buffet</td>\n",
       "      <td>Banashankari</td>\n",
       "    </tr>\n",
       "    <tr>\n",
       "      <th>1</th>\n",
       "      <td>https://www.zomato.com/bangalore/spice-elephan...</td>\n",
       "      <td>2nd Floor, 80 Feet Road, Near Big Bazaar, 6th ...</td>\n",
       "      <td>Spice Elephant</td>\n",
       "      <td>Yes</td>\n",
       "      <td>No</td>\n",
       "      <td>4.1/5</td>\n",
       "      <td>787</td>\n",
       "      <td>080 41714161</td>\n",
       "      <td>Banashankari</td>\n",
       "      <td>Casual Dining</td>\n",
       "      <td>Momos, Lunch Buffet, Chocolate Nirvana, Thai G...</td>\n",
       "      <td>Chinese, North Indian, Thai</td>\n",
       "      <td>800</td>\n",
       "      <td>[('Rated 4.0', 'RATED\\n  Had been here for din...</td>\n",
       "      <td>[]</td>\n",
       "      <td>Buffet</td>\n",
       "      <td>Banashankari</td>\n",
       "    </tr>\n",
       "    <tr>\n",
       "      <th>2</th>\n",
       "      <td>https://www.zomato.com/SanchurroBangalore?cont...</td>\n",
       "      <td>1112, Next to KIMS Medical College, 17th Cross...</td>\n",
       "      <td>San Churro Cafe</td>\n",
       "      <td>Yes</td>\n",
       "      <td>No</td>\n",
       "      <td>3.8/5</td>\n",
       "      <td>918</td>\n",
       "      <td>+91 9663487993</td>\n",
       "      <td>Banashankari</td>\n",
       "      <td>Cafe, Casual Dining</td>\n",
       "      <td>Churros, Cannelloni, Minestrone Soup, Hot Choc...</td>\n",
       "      <td>Cafe, Mexican, Italian</td>\n",
       "      <td>800</td>\n",
       "      <td>[('Rated 3.0', \"RATED\\n  Ambience is not that ...</td>\n",
       "      <td>[]</td>\n",
       "      <td>Buffet</td>\n",
       "      <td>Banashankari</td>\n",
       "    </tr>\n",
       "    <tr>\n",
       "      <th>3</th>\n",
       "      <td>https://www.zomato.com/bangalore/addhuri-udupi...</td>\n",
       "      <td>1st Floor, Annakuteera, 3rd Stage, Banashankar...</td>\n",
       "      <td>Addhuri Udupi Bhojana</td>\n",
       "      <td>No</td>\n",
       "      <td>No</td>\n",
       "      <td>3.7/5</td>\n",
       "      <td>88</td>\n",
       "      <td>+91 9620009302</td>\n",
       "      <td>Banashankari</td>\n",
       "      <td>Quick Bites</td>\n",
       "      <td>Masala Dosa</td>\n",
       "      <td>South Indian, North Indian</td>\n",
       "      <td>300</td>\n",
       "      <td>[('Rated 4.0', \"RATED\\n  Great food and proper...</td>\n",
       "      <td>[]</td>\n",
       "      <td>Buffet</td>\n",
       "      <td>Banashankari</td>\n",
       "    </tr>\n",
       "    <tr>\n",
       "      <th>4</th>\n",
       "      <td>https://www.zomato.com/bangalore/grand-village...</td>\n",
       "      <td>10, 3rd Floor, Lakshmi Associates, Gandhi Baza...</td>\n",
       "      <td>Grand Village</td>\n",
       "      <td>No</td>\n",
       "      <td>No</td>\n",
       "      <td>3.8/5</td>\n",
       "      <td>166</td>\n",
       "      <td>+91 8026612447\\r\\n+91 9901210005</td>\n",
       "      <td>Basavanagudi</td>\n",
       "      <td>Casual Dining</td>\n",
       "      <td>Panipuri, Gol Gappe</td>\n",
       "      <td>North Indian, Rajasthani</td>\n",
       "      <td>600</td>\n",
       "      <td>[('Rated 4.0', 'RATED\\n  Very good restaurant ...</td>\n",
       "      <td>[]</td>\n",
       "      <td>Buffet</td>\n",
       "      <td>Banashankari</td>\n",
       "    </tr>\n",
       "  </tbody>\n",
       "</table>\n",
       "</div>"
      ],
      "text/plain": [
       "                                                 url  \\\n",
       "0  https://www.zomato.com/bangalore/jalsa-banasha...   \n",
       "1  https://www.zomato.com/bangalore/spice-elephan...   \n",
       "2  https://www.zomato.com/SanchurroBangalore?cont...   \n",
       "3  https://www.zomato.com/bangalore/addhuri-udupi...   \n",
       "4  https://www.zomato.com/bangalore/grand-village...   \n",
       "\n",
       "                                             address                   name  \\\n",
       "0  942, 21st Main Road, 2nd Stage, Banashankari, ...                  Jalsa   \n",
       "1  2nd Floor, 80 Feet Road, Near Big Bazaar, 6th ...         Spice Elephant   \n",
       "2  1112, Next to KIMS Medical College, 17th Cross...        San Churro Cafe   \n",
       "3  1st Floor, Annakuteera, 3rd Stage, Banashankar...  Addhuri Udupi Bhojana   \n",
       "4  10, 3rd Floor, Lakshmi Associates, Gandhi Baza...          Grand Village   \n",
       "\n",
       "  online_order book_table   rate  votes                             phone  \\\n",
       "0          Yes        Yes  4.1/5    775    080 42297555\\r\\n+91 9743772233   \n",
       "1          Yes         No  4.1/5    787                      080 41714161   \n",
       "2          Yes         No  3.8/5    918                    +91 9663487993   \n",
       "3           No         No  3.7/5     88                    +91 9620009302   \n",
       "4           No         No  3.8/5    166  +91 8026612447\\r\\n+91 9901210005   \n",
       "\n",
       "       location            rest_type  \\\n",
       "0  Banashankari        Casual Dining   \n",
       "1  Banashankari        Casual Dining   \n",
       "2  Banashankari  Cafe, Casual Dining   \n",
       "3  Banashankari          Quick Bites   \n",
       "4  Basavanagudi        Casual Dining   \n",
       "\n",
       "                                          dish_liked  \\\n",
       "0  Pasta, Lunch Buffet, Masala Papad, Paneer Laja...   \n",
       "1  Momos, Lunch Buffet, Chocolate Nirvana, Thai G...   \n",
       "2  Churros, Cannelloni, Minestrone Soup, Hot Choc...   \n",
       "3                                        Masala Dosa   \n",
       "4                                Panipuri, Gol Gappe   \n",
       "\n",
       "                         cuisines approx_cost(for two people)  \\\n",
       "0  North Indian, Mughlai, Chinese                         800   \n",
       "1     Chinese, North Indian, Thai                         800   \n",
       "2          Cafe, Mexican, Italian                         800   \n",
       "3      South Indian, North Indian                         300   \n",
       "4        North Indian, Rajasthani                         600   \n",
       "\n",
       "                                        reviews_list menu_item  \\\n",
       "0  [('Rated 4.0', 'RATED\\n  A beautiful place to ...        []   \n",
       "1  [('Rated 4.0', 'RATED\\n  Had been here for din...        []   \n",
       "2  [('Rated 3.0', \"RATED\\n  Ambience is not that ...        []   \n",
       "3  [('Rated 4.0', \"RATED\\n  Great food and proper...        []   \n",
       "4  [('Rated 4.0', 'RATED\\n  Very good restaurant ...        []   \n",
       "\n",
       "  listed_in(type) listed_in(city)  \n",
       "0          Buffet    Banashankari  \n",
       "1          Buffet    Banashankari  \n",
       "2          Buffet    Banashankari  \n",
       "3          Buffet    Banashankari  \n",
       "4          Buffet    Banashankari  "
      ]
     },
     "execution_count": 15,
     "metadata": {},
     "output_type": "execute_result"
    }
   ],
   "source": [
    "#get the top 5 tables of data set\n",
    "df.head()"
   ]
  },
  {
   "cell_type": "markdown",
   "id": "8190d976-31c2-4aaa-b04d-615357fba6d7",
   "metadata": {},
   "source": [
    "# Step 3️⃣ : Explore Data"
   ]
  },
  {
   "cell_type": "code",
   "execution_count": 134,
   "id": "2dfbe4b3-9183-4ef3-ac33-edbed7f90633",
   "metadata": {},
   "outputs": [
    {
     "name": "stdout",
     "output_type": "stream",
     "text": [
      "<class 'pandas.core.frame.DataFrame'>\n",
      "Index: 43854 entries, 0 to 51716\n",
      "Data columns (total 11 columns):\n",
      " #   Column                       Non-Null Count  Dtype   \n",
      "---  ------                       --------------  -----   \n",
      " 0   name                         43854 non-null  object  \n",
      " 1   online_order                 43854 non-null  object  \n",
      " 2   book_table                   43854 non-null  object  \n",
      " 3   rate                         43854 non-null  float64 \n",
      " 4   votes                        43854 non-null  int64   \n",
      " 5   location                     43854 non-null  object  \n",
      " 6   rest_type                    43703 non-null  object  \n",
      " 7   cuisines                     43843 non-null  object  \n",
      " 8   approx_cost(for two people)  43854 non-null  float64 \n",
      " 9   listed_in(type)              43854 non-null  category\n",
      " 10  listed_in(city)              43854 non-null  object  \n",
      "dtypes: category(1), float64(2), int64(1), object(7)\n",
      "memory usage: 3.7+ MB\n"
     ]
    },
    {
     "data": {
      "text/html": [
       "<div>\n",
       "<style scoped>\n",
       "    .dataframe tbody tr th:only-of-type {\n",
       "        vertical-align: middle;\n",
       "    }\n",
       "\n",
       "    .dataframe tbody tr th {\n",
       "        vertical-align: top;\n",
       "    }\n",
       "\n",
       "    .dataframe thead th {\n",
       "        text-align: right;\n",
       "    }\n",
       "</style>\n",
       "<table border=\"1\" class=\"dataframe\">\n",
       "  <thead>\n",
       "    <tr style=\"text-align: right;\">\n",
       "      <th></th>\n",
       "      <th>rate</th>\n",
       "      <th>votes</th>\n",
       "      <th>approx_cost(for two people)</th>\n",
       "    </tr>\n",
       "  </thead>\n",
       "  <tbody>\n",
       "    <tr>\n",
       "      <th>count</th>\n",
       "      <td>43854.000000</td>\n",
       "      <td>43854.000000</td>\n",
       "      <td>43854.000000</td>\n",
       "    </tr>\n",
       "    <tr>\n",
       "      <th>mean</th>\n",
       "      <td>3.700158</td>\n",
       "      <td>332.913965</td>\n",
       "      <td>593.939745</td>\n",
       "    </tr>\n",
       "    <tr>\n",
       "      <th>std</th>\n",
       "      <td>0.428931</td>\n",
       "      <td>861.566652</td>\n",
       "      <td>457.164587</td>\n",
       "    </tr>\n",
       "    <tr>\n",
       "      <th>min</th>\n",
       "      <td>1.800000</td>\n",
       "      <td>0.000000</td>\n",
       "      <td>40.000000</td>\n",
       "    </tr>\n",
       "    <tr>\n",
       "      <th>25%</th>\n",
       "      <td>3.400000</td>\n",
       "      <td>17.000000</td>\n",
       "      <td>300.000000</td>\n",
       "    </tr>\n",
       "    <tr>\n",
       "      <th>50%</th>\n",
       "      <td>3.700449</td>\n",
       "      <td>64.000000</td>\n",
       "      <td>450.000000</td>\n",
       "    </tr>\n",
       "    <tr>\n",
       "      <th>75%</th>\n",
       "      <td>4.000000</td>\n",
       "      <td>254.000000</td>\n",
       "      <td>700.000000</td>\n",
       "    </tr>\n",
       "    <tr>\n",
       "      <th>max</th>\n",
       "      <td>4.900000</td>\n",
       "      <td>16832.000000</td>\n",
       "      <td>6000.000000</td>\n",
       "    </tr>\n",
       "  </tbody>\n",
       "</table>\n",
       "</div>"
      ],
      "text/plain": [
       "               rate         votes  approx_cost(for two people)\n",
       "count  43854.000000  43854.000000                 43854.000000\n",
       "mean       3.700158    332.913965                   593.939745\n",
       "std        0.428931    861.566652                   457.164587\n",
       "min        1.800000      0.000000                    40.000000\n",
       "25%        3.400000     17.000000                   300.000000\n",
       "50%        3.700449     64.000000                   450.000000\n",
       "75%        4.000000    254.000000                   700.000000\n",
       "max        4.900000  16832.000000                  6000.000000"
      ]
     },
     "execution_count": 134,
     "metadata": {},
     "output_type": "execute_result"
    }
   ],
   "source": [
    "df.shape\n",
    "df.columns\n",
    "df.info()\n",
    "df.describe()\n"
   ]
  },
  {
   "cell_type": "code",
   "execution_count": 25,
   "id": "d9653a0f-d06d-4033-93c6-2018f4432cac",
   "metadata": {},
   "outputs": [
    {
     "data": {
      "text/plain": [
       "url                                0\n",
       "address                            0\n",
       "name                               0\n",
       "online_order                       0\n",
       "book_table                         0\n",
       "rate                            7775\n",
       "votes                              0\n",
       "phone                           1208\n",
       "location                          21\n",
       "rest_type                        227\n",
       "dish_liked                     28078\n",
       "cuisines                          45\n",
       "approx_cost(for two people)      346\n",
       "reviews_list                       0\n",
       "menu_item                          0\n",
       "listed_in(type)                    0\n",
       "listed_in(city)                    0\n",
       "dtype: int64"
      ]
     },
     "execution_count": 25,
     "metadata": {},
     "output_type": "execute_result"
    }
   ],
   "source": [
    "#check for null values over here\n",
    "df.isnull().sum()"
   ]
  },
  {
   "cell_type": "markdown",
   "id": "02ba976f-71d5-46b2-ac29-2c8f16393a50",
   "metadata": {},
   "source": [
    "#  Step 4️⃣ : Data Cleaning"
   ]
  },
  {
   "cell_type": "code",
   "execution_count": 30,
   "id": "4d38c541-328c-40ec-a377-e5591191f25d",
   "metadata": {},
   "outputs": [],
   "source": [
    "#drop unneccesary columns\n",
    "df.drop(['url', 'address', 'phone', 'dish_liked', 'reviews_list', 'menu_item'], axis=1, inplace=True)"
   ]
  },
  {
   "cell_type": "code",
   "execution_count": 34,
   "id": "9fffbe3c-ecfe-45a5-9d15-9707d9769a0f",
   "metadata": {},
   "outputs": [],
   "source": [
    "#remove nll in key columns\n",
    "df.dropna(subset=['rate'], inplace=True)"
   ]
  },
  {
   "cell_type": "code",
   "execution_count": 44,
   "id": "85ed5f0b-bec3-4668-9dd0-497aa213a350",
   "metadata": {},
   "outputs": [],
   "source": [
    "#Clean ‘approx_cost(for two people)’ column:\n",
    "df['approx_cost(for two people)'] = df['approx_cost(for two people)'].fillna(df['approx_cost(for two people)'].mean())"
   ]
  },
  {
   "cell_type": "code",
   "execution_count": 46,
   "id": "f0363a0e-b945-400f-8eb1-853badbb8ce2",
   "metadata": {},
   "outputs": [],
   "source": [
    "#remove duplicated\n",
    "df.drop_duplicates(inplace=True)"
   ]
  },
  {
   "cell_type": "markdown",
   "id": "d008e84b-098b-4ae7-ac06-c43803d4e50d",
   "metadata": {},
   "source": [
    "# Step 5️⃣ : Feature Engineering"
   ]
  },
  {
   "cell_type": "code",
   "execution_count": 51,
   "id": "7de58574-6777-4a70-8586-5a1676621d36",
   "metadata": {},
   "outputs": [],
   "source": [
    "df['listed_in(type)'] = df['listed_in(type)'].astype('category')"
   ]
  },
  {
   "cell_type": "markdown",
   "id": "4924c9f7-47da-4bec-af23-9e1af8feedc0",
   "metadata": {},
   "source": [
    "# Step 6️⃣ : Exploratory Data Analysis (EDA)"
   ]
  },
  {
   "cell_type": "code",
   "execution_count": 160,
   "id": "e244bf07-c6bf-4f22-a133-8bcbee679074",
   "metadata": {},
   "outputs": [
    {
     "data": {
      "text/plain": [
       "<Figure size 640x480 with 0 Axes>"
      ]
     },
     "metadata": {},
     "output_type": "display_data"
    },
    {
     "data": {
      "image/png": "[encoded data removed]",
      "text/plain": [
       "<Figure size 600x600 with 1 Axes>"
      ]
     },
     "metadata": {},
     "output_type": "display_data"
    }
   ],
   "source": [
    "#Top 10 Cuisines\n",
    "plt.figure(figsize = (6,6))\n",
    "df['cuisines'].value_counts()[:10].plot(kind='barh', color='skyblue')\n",
    "plt.title(\"Top 10 cusines\")\n",
    "plt.xlabel(\"Number of Restaurants\")\n",
    "plt.ylabel(\"Cusines\")\n",
    "plt.savefig('images/bar_chart.png')\n",
    "plt.show()"
   ]
  },
  {
   "cell_type": "code",
   "execution_count": 163,
   "id": "5f58b4f1-8141-4cc0-bbde-b45cb7076255",
   "metadata": {},
   "outputs": [
    {
     "data": {
      "image/png": "[encoded data removed]",
      "text/plain": [
       "<Figure size 600x600 with 1 Axes>"
      ]
     },
     "metadata": {},
     "output_type": "display_data"
    }
   ],
   "source": [
    "# Online Orders Pie Chart\n",
    "labels = df['online_order'].value_counts().index\n",
    "sizes = df['online_order'].value_counts().values\n",
    "\n",
    "plt.figure(figsize=(6,6))\n",
    "plt.pie(sizes, labels=labels, autopct='%1.1f%%', startangle=90, colors=['lightgreen','salmon'],wedgeprops={'linewidth': 3, 'edgecolor': 'black'})\n",
    "plt.title('Restaurants offering Online Orders')\n",
    "plt.savefig('images/pie_chart.png')\n",
    "plt.show()"
   ]
  },
  {
   "cell_type": "code",
   "execution_count": 165,
   "id": "3f844a30-cbca-448e-b8d0-cd2fb02f2e75",
   "metadata": {},
   "outputs": [
    {
     "data": {
      "image/png": "[encoded data removed]",
      "text/plain": [
       "<Figure size 1200x600 with 1 Axes>"
      ]
     },
     "metadata": {},
     "output_type": "display_data"
    }
   ],
   "source": [
    "#Restaurant Type Count\n",
    "plt.figure(figsize=(12,6))\n",
    "sns.countplot(\n",
    "    y='rest_type',\n",
    "    data=df,\n",
    "    order=df['rest_type'].value_counts().iloc[:10].index,\n",
    "    color='#FF7F50'   # 👈 one color for all bars\n",
    ")\n",
    "plt.title('Most Common Restaurant Types')\n",
    "plt.savefig('images/restaurant_types.png')\n",
    "plt.show()"
   ]
  },
  {
   "cell_type": "code",
   "execution_count": 167,
   "id": "2fa7e632-260f-439d-92b3-854c6b66180e",
   "metadata": {},
   "outputs": [
    {
     "data": {
      "image/png": "[encoded data removed]",
      "text/plain": [
       "<Figure size 800x600 with 1 Axes>"
      ]
     },
     "metadata": {},
     "output_type": "display_data"
    }
   ],
   "source": [
    "#Cost Distribution Boxplot\n",
    "plt.figure(figsize=(8,6))\n",
    "sns.boxplot(df['approx_cost(for two people)'])\n",
    "plt.title('Cost for Two People Distribution')\n",
    "plt.savefig('images/boxplot.png')\n",
    "plt.show()"
   ]
  },
  {
   "cell_type": "code",
   "execution_count": 169,
   "id": "1d262d0c-e04c-4452-bb8d-4ed7d3172f25",
   "metadata": {},
   "outputs": [
    {
     "data": {
      "image/png": "[encoded data removed]",
      "text/plain": [
       "<Figure size 800x600 with 1 Axes>"
      ]
     },
     "metadata": {},
     "output_type": "display_data"
    }
   ],
   "source": [
    "#Rating Distribution\n",
    "plt.figure(figsize=(8,6))\n",
    "plt.hist(df['rate'], bins=20, color='#FF7F50', edgecolor='black')\n",
    "plt.title('Rating Distribution')\n",
    "plt.xlabel('Ratings')\n",
    "plt.ylabel('Number of Restaurants')\n",
    "plt.savefig('images/rating_distribution.png')\n",
    "plt.show()"
   ]
  },
  {
   "cell_type": "markdown",
   "id": "446b6ce2-1dc3-45ae-886b-e26d3e163fd2",
   "metadata": {},
   "source": [
    "# Step 7️⃣ : Correlation Heatmap"
   ]
  },
  {
   "cell_type": "code",
   "execution_count": 109,
   "id": "17643491-d9e0-45c7-9dcf-8eaea9665b96",
   "metadata": {},
   "outputs": [],
   "source": [
    "# Remove commas and convert to numeric, replacing errors with NaN\n",
    "df['approx_cost(for two people)'] = df['approx_cost(for two people)'].astype(str).str.replace(',', '')\n",
    "df['approx_cost(for two people)'] = pd.to_numeric(df['approx_cost(for two people)'], errors='coerce')\n",
    "\n",
    "# Fill missing values with the mean\n",
    "df['approx_cost(for two people)'] = df['approx_cost(for two people)'].fillna(df['approx_cost(for two people)'].mean())"
   ]
  },
  {
   "cell_type": "code",
   "execution_count": 111,
   "id": "4fec7dd2-433e-4463-b1c4-4f414eb79afd",
   "metadata": {},
   "outputs": [],
   "source": [
    "# Split and clean the 'rate' column\n",
    "df['rate'] = df['rate'].astype(str).apply(lambda x: x.split('/')[0].strip())\n",
    "df['rate'] = df['rate'].replace(['NEW', '-', 'nan'], np.nan)\n",
    "df['rate'] = pd.to_numeric(df['rate'], errors='coerce')\n",
    "\n",
    "# Fill missing values with the mean\n",
    "df['rate'] = df['rate'].fillna(df['rate'].mean())"
   ]
  },
  {
   "cell_type": "code",
   "execution_count": 171,
   "id": "f55dcbe1-7826-4c02-8411-79a855008a9f",
   "metadata": {},
   "outputs": [
    {
     "data": {
      "image/png": "[encoded data removed]",
      "text/plain": [
       "<Figure size 800x600 with 2 Axes>"
      ]
     },
     "metadata": {},
     "output_type": "display_data"
    }
   ],
   "source": [
    "plt.figure(figsize=(8,6))\n",
    "sns.heatmap(df.corr(numeric_only=True), annot=True, cmap='coolwarm')\n",
    "plt.title('Correlation Heatmap')\n",
    "plt.savefig('images/Correlation_Heatmap.png')\n",
    "plt.show()"
   ]
  },
  {
   "cell_type": "markdown",
   "id": "d91eef5f-e0dc-42c1-95bf-c503717cfafa",
   "metadata": {},
   "source": [
    "# Step 8️⃣ : Complex, Insightful Analysis  "
   ]
  },
  {
   "cell_type": "code",
   "execution_count": 119,
   "id": "0be3927c-861a-4920-bbac-3ef9f1b143bf",
   "metadata": {},
   "outputs": [
    {
     "name": "stdout",
     "output_type": "stream",
     "text": [
      "rest_type\n",
      "Pub, Cafe                      4.657500\n",
      "Bar, Pub                       4.600000\n",
      "Microbrewery, Bar              4.446154\n",
      "Microbrewery, Pub              4.438095\n",
      "Microbrewery                   4.426697\n",
      "Pub, Microbrewery              4.425658\n",
      "Casual Dining, Irani Cafee     4.406667\n",
      "Cafe, Lounge                   4.400000\n",
      "Fine Dining, Lounge            4.400000\n",
      "Microbrewery, Casual Dining    4.317864\n",
      "Name: rate, dtype: float64\n"
     ]
    }
   ],
   "source": [
    "#Which restaurant types have the highest average rating?\n",
    "rest_rating = df.groupby('rest_type')['rate'].mean().sort_values(ascending=False)\n",
    "print(rest_rating.head(10))"
   ]
  },
  {
   "cell_type": "code",
   "execution_count": 121,
   "id": "be710ba6-3b5b-4996-99bb-4121f0180fb6",
   "metadata": {},
   "outputs": [
    {
     "name": "stdout",
     "output_type": "stream",
     "text": [
      "location\n",
      "Koramangala 5th Block    131\n",
      "Indiranagar               54\n",
      "Whitefield                40\n",
      "Koramangala 7th Block     39\n",
      "Cunningham Road           34\n",
      "Sarjapur Road             28\n",
      "Marathahalli              25\n",
      "MG Road                   18\n",
      "HSR                       17\n",
      "Koramangala 1st Block     17\n",
      "Name: count, dtype: int64\n"
     ]
    }
   ],
   "source": [
    "#Which locations have the most high-rated restaurants (rate > 4.5)?\n",
    "high_rated = df[df['rate'] > 4.5]['location'].value_counts().head(10)\n",
    "print(high_rated)"
   ]
  },
  {
   "cell_type": "code",
   "execution_count": 123,
   "id": "c9beef64-2998-4391-bd84-d9349fa6b7b3",
   "metadata": {},
   "outputs": [
    {
     "name": "stdout",
     "output_type": "stream",
     "text": [
      "rest_type\n",
      "Fine Dining, Bar             3015.384615\n",
      "Fine Dining, Microbrewery    3000.000000\n",
      "Fine Dining, Lounge          3000.000000\n",
      "Fine Dining                  2722.807018\n",
      "Bar, Lounge                  2450.000000\n",
      "Club, Casual Dining          2400.000000\n",
      "Club                         2150.000000\n",
      "Lounge, Bar                  2027.777778\n",
      "Bar, Quick Bites             2000.000000\n",
      "Lounge, Microbrewery         2000.000000\n",
      "Name: approx_cost(for two people), dtype: float64\n"
     ]
    }
   ],
   "source": [
    "# Average cost for two for different restaurant types\n",
    "avg_cost_rest_type = df.groupby('rest_type')['approx_cost(for two people)'].mean().sort_values(ascending=False)\n",
    "print(avg_cost_rest_type.head(10))"
   ]
  },
  {
   "cell_type": "code",
   "execution_count": 125,
   "id": "549c8b77-4154-40a5-ae8e-b3b4d6a3b8ff",
   "metadata": {},
   "outputs": [
    {
     "name": "stdout",
     "output_type": "stream",
     "text": [
      "online_order\n",
      "No     3.661653\n",
      "Yes    3.721443\n",
      "Name: rate, dtype: float64\n"
     ]
    }
   ],
   "source": [
    "# Is online ordering affecting the rating?\n",
    "online_rating = df.groupby('online_order')['rate'].mean()\n",
    "print(online_rating)"
   ]
  },
  {
   "cell_type": "code",
   "execution_count": 127,
   "id": "94594768-647e-4cc4-9551-14371d927c78",
   "metadata": {},
   "outputs": [
    {
     "name": "stdout",
     "output_type": "stream",
     "text": [
      "cuisines\n",
      "Asian, Chinese, Thai, Momos                                      4.900000\n",
      "Healthy Food, Salad, Mediterranean                               4.900000\n",
      "Continental, North Indian, Italian, South Indian, Finger Food    4.900000\n",
      "North Indian, European, Mediterranean, BBQ                       4.800000\n",
      "Asian, Mediterranean, North Indian, BBQ                          4.800000\n",
      "European, Mediterranean, North Indian, BBQ                       4.789474\n",
      "American, Tex-Mex, Burger, BBQ, Mexican                          4.750000\n",
      "Italian, American, Pizza                                         4.700000\n",
      "Continental, European, BBQ, Chinese, Asian                       4.700000\n",
      "Chinese, American, Continental, Italian, North Indian            4.700000\n",
      "Name: rate, dtype: float64\n"
     ]
    }
   ],
   "source": [
    "# Cuisines with the highest average rating\n",
    "top_cuisine_rating = df.groupby('cuisines')['rate'].mean().sort_values(ascending=False).head(10)\n",
    "print(top_cuisine_rating)"
   ]
  },
  {
   "cell_type": "markdown",
   "id": "55f4be7b-1cb9-454c-8653-88ba6c6bc18e",
   "metadata": {},
   "source": [
    "# Step 9️⃣ : Key Insights (Markdown Cell)"
   ]
  },
  {
   "cell_type": "markdown",
   "id": "04d26199-a816-40ad-aa27-70d497ff8324",
   "metadata": {},
   "source": [
    " ### 1.Quick Bites and Casual Dining dominate the city.\n",
    "\n",
    " ### 2.North Indian and Chinese are the most offered cuisines.\n",
    "\n",
    " ### 3.Online ordering slightly increases average ratings.\n",
    "\n",
    " ### 4.Most restaurants charge ₹200–₹600 for two people.\n",
    "\n",
    " ### 5.Indiranagar and BTM have the most restaurants rated above 4.5.\n",
    "\n"
   ]
  }
 ],
 "metadata": {
  "kernelspec": {
   "display_name": "Python [conda env:base] *",
   "language": "python",
   "name": "conda-base-py"
  },
  "language_info": {
   "codemirror_mode": {
    "name": "ipython",
    "version": 3
   },
   "file_extension": ".py",
   "mimetype": "text/x-python",
   "name": "python",
   "nbconvert_exporter": "python",
   "pygments_lexer": "ipython3",
   "version": "3.12.7"
  }
 },
 "nbformat": 4,
 "nbformat_minor": 5
}
